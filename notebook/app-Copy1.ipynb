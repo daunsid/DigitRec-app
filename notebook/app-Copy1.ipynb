{
 "cells": [
  {
   "cell_type": "code",
   "execution_count": 56,
   "id": "57fb8f50",
   "metadata": {},
   "outputs": [
    {
     "ename": "ModuleNotFoundError",
     "evalue": "No module named 'trainer'",
     "output_type": "error",
     "traceback": [
      "\u001b[1;31m---------------------------------------------------------------------------\u001b[0m",
      "\u001b[1;31mModuleNotFoundError\u001b[0m                       Traceback (most recent call last)",
      "\u001b[1;32m<ipython-input-56-e4ca2eb79c55>\u001b[0m in \u001b[0;36m<module>\u001b[1;34m\u001b[0m\n\u001b[0;32m      3\u001b[0m \u001b[1;32mimport\u001b[0m \u001b[0mpath\u001b[0m\u001b[1;33m\u001b[0m\u001b[1;33m\u001b[0m\u001b[0m\n\u001b[0;32m      4\u001b[0m \u001b[1;32mimport\u001b[0m \u001b[0mtime\u001b[0m\u001b[1;33m\u001b[0m\u001b[1;33m\u001b[0m\u001b[0m\n\u001b[1;32m----> 5\u001b[1;33m \u001b[1;32mimport\u001b[0m \u001b[0mtrainer\u001b[0m\u001b[1;33m.\u001b[0m\u001b[0mmodels\u001b[0m\u001b[1;33m,\u001b[0m \u001b[0mtask\u001b[0m\u001b[1;33m\u001b[0m\u001b[1;33m\u001b[0m\u001b[0m\n\u001b[0m\u001b[0;32m      6\u001b[0m \u001b[1;32mfrom\u001b[0m \u001b[0mfastai\u001b[0m\u001b[1;33m.\u001b[0m\u001b[0mvision\u001b[0m \u001b[1;32mimport\u001b[0m \u001b[0mwidgets\u001b[0m\u001b[1;33m\u001b[0m\u001b[1;33m\u001b[0m\u001b[0m\n\u001b[0;32m      7\u001b[0m \u001b[1;33m\u001b[0m\u001b[0m\n",
      "\u001b[1;31mModuleNotFoundError\u001b[0m: No module named 'trainer'"
     ]
    }
   ],
   "source": [
    "import os\n",
    "import PIL\n",
    "import path\n",
    "import time\n",
    "import models, task\n",
    "from fastai.vision import widgets\n",
    "\n",
    "path = path.Path(\"../output/model.pth\")\n"
   ]
  },
  {
   "cell_type": "code",
   "execution_count": null,
   "id": "ff73369c",
   "metadata": {},
   "outputs": [],
   "source": [
    "pred, prop = task.inference(img, )"
   ]
  },
  {
   "cell_type": "code",
   "execution_count": 9,
   "id": "79684fcc",
   "metadata": {},
   "outputs": [
    {
     "data": {
      "application/vnd.jupyter.widget-view+json": {
       "model_id": "94c8e837ec8243098ce35f6b57c22d4d",
       "version_major": 2,
       "version_minor": 0
      },
      "text/plain": [
       "HTML(value='<h1><b>SIGN LANGUAGE DIGIT RECOGNITION</b></h1>', placeholder='')"
      ]
     },
     "metadata": {},
     "output_type": "display_data"
    }
   ],
   "source": [
    "widget.HTML(\n",
    "    value=\"<h1><b>SIGN LANGUAGE DIGIT RECOGNITION</b></h1>\",\n",
    "    placeholder=\"\",\n",
    "    description=\"\")"
   ]
  },
  {
   "cell_type": "code",
   "execution_count": 16,
   "id": "8db78acf",
   "metadata": {},
   "outputs": [
    {
     "data": {
      "application/vnd.jupyter.widget-view+json": {
       "model_id": "0b34083ab2c34885a1ef7c89803e14aa",
       "version_major": 2,
       "version_minor": 0
      },
      "text/plain": [
       "Label(value='upload an Image')"
      ]
     },
     "metadata": {},
     "output_type": "display_data"
    }
   ],
   "source": [
    "widgets.Label(value=\"upload an Image\")"
   ]
  },
  {
   "cell_type": "code",
   "execution_count": 33,
   "id": "8688e401",
   "metadata": {},
   "outputs": [],
   "source": [
    "uploader = widgets.FileUpload()\n",
    "#display(uploader)"
   ]
  },
  {
   "cell_type": "code",
   "execution_count": 34,
   "id": "a6b5316f",
   "metadata": {},
   "outputs": [
    {
     "data": {
      "application/vnd.jupyter.widget-view+json": {
       "model_id": "14a4c954da054f22ae78672d27e6003c",
       "version_major": 2,
       "version_minor": 0
      },
      "text/plain": [
       "FileUpload(value={}, description='Upload')"
      ]
     },
     "metadata": {},
     "output_type": "display_data"
    }
   ],
   "source": [
    "uploader"
   ]
  },
  {
   "cell_type": "code",
   "execution_count": 35,
   "id": "ea54b2d1",
   "metadata": {},
   "outputs": [],
   "source": [
    "#dir(widgets.PILImage)"
   ]
  },
  {
   "cell_type": "code",
   "execution_count": 40,
   "id": "a8f49c9d",
   "metadata": {},
   "outputs": [],
   "source": [
    "img=widgets.PILImage.create(uploader.data[-1])"
   ]
  },
  {
   "cell_type": "code",
   "execution_count": 41,
   "id": "771061bf",
   "metadata": {},
   "outputs": [
    {
     "data": {
      "image/png": "[encoded data removed]",
      "text/plain": [
       "PILImage mode=RGB size=100x100"
      ]
     },
     "execution_count": 41,
     "metadata": {},
     "output_type": "execute_result"
    }
   ],
   "source": [
    "img"
   ]
  },
  {
   "cell_type": "code",
   "execution_count": 42,
   "id": "000c1d80",
   "metadata": {},
   "outputs": [],
   "source": [
    "#widget.Image.open(uploader)#(value=uploaded_file['example_2.JPG']['content'])"
   ]
  },
  {
   "cell_type": "code",
   "execution_count": 51,
   "id": "90b26299",
   "metadata": {},
   "outputs": [
    {
     "data": {
      "application/vnd.jupyter.widget-view+json": {
       "model_id": "aeda1b33e79c41ceb609eadcbf5d3294",
       "version_major": 2,
       "version_minor": 0
      },
      "text/plain": [
       "Button(description='classify digit', icon='check', style=ButtonStyle(), tooltip='click me')"
      ]
     },
     "metadata": {},
     "output_type": "display_data"
    }
   ],
   "source": [
    "button = widgets.Button(\n",
    "    description=\"classify digit\",\n",
    "    disabled=False,\n",
    "    button_style=\"\",\n",
    "    tooltip=\"click me\",\n",
    "    icon=\"check\")\n",
    "button"
   ]
  },
  {
   "cell_type": "code",
   "execution_count": 87,
   "id": "53b73639",
   "metadata": {},
   "outputs": [],
   "source": [
    "lbl_pred = widgets.Label()\n",
    "lbl_pred.value = f\"\"\n",
    "lbl_pred"
   ]
  },
  {
   "cell_type": "code",
   "execution_count": 49,
   "id": "53bc9d91",
   "metadata": {},
   "outputs": [],
   "source": []
  },
  {
   "cell_type": "code",
   "execution_count": 50,
   "id": "4ea3b93b",
   "metadata": {},
   "outputs": [
    {
     "data": {
      "application/vnd.jupyter.widget-view+json": {
       "model_id": "3f56dd21a47f4120a2b82d3c8859f566",
       "version_major": 2,
       "version_minor": 0
      },
      "text/plain": [
       "Output(outputs=({'output_type': 'display_data', 'data': {'text/plain': 'PILImage mode=RGB size=100x100', 'imag…"
      ]
     },
     "metadata": {},
     "output_type": "display_data"
    }
   ],
   "source": []
  },
  {
   "cell_type": "code",
   "execution_count": null,
   "id": "31e8469e",
   "metadata": {},
   "outputs": [],
   "source": [
    "def click_to_classify():\n",
    "    img = PILImage.create(uploader.data[-1])\n",
    "    out = widgets.Output()\n",
    "    out.clear_output()\n",
    "    with out: display(img)\n",
    "    out"
   ]
  },
  {
   "cell_type": "code",
   "execution_count": null,
   "id": "ed466656",
   "metadata": {},
   "outputs": [],
   "source": [
    "def on_click_classify(change):\n",
    "    img = PILImage.create(btn_upload.data[-1])\n",
    "    out_pl.clear_output()\n",
    "    with out_pl: display(img.to_thumb(128,128))\n",
    "        pred,pred_idx,probs = learn_inf.predict(img)\n",
    "        lbl_pred.value = f'Prediction: {pred}; Probability:{probs[pred_idx]:.04f}'\n",
    "        \n",
    "btn_run.on_click(on_click_classify)"
   ]
  },
  {
   "cell_type": "code",
   "execution_count": 86,
   "id": "defc2586",
   "metadata": {},
   "outputs": [
    {
     "data": {
      "application/vnd.jupyter.widget-view+json": {
       "model_id": "bdee4dd2851144b3ac90451cd0181960",
       "version_major": 2,
       "version_minor": 0
      },
      "text/plain": [
       "FloatProgress(value=0.0, bar_style='info', description='classfying image....')"
      ]
     },
     "metadata": {},
     "output_type": "display_data"
    }
   ],
   "source": [
    "for i in range(10):\n",
    "    time.sleep(1)\n",
    "    fb.value = i\n",
    "fb=widget.FloatProgress(\n",
    "    #value=8.5,\n",
    "    min=0,\n",
    "    #max=10.0,\n",
    "    description=\"classfying image....\",\n",
    "    bar_style=\"info\",\n",
    "    #style={\"bar_color\": \"#ffff00\"},\n",
    "    orientation=\"horizontal\")\n",
    "display(fb)"
   ]
  }
 ],
 "metadata": {
  "kernelspec": {
   "display_name": "Python 3",
   "language": "python",
   "name": "python3"
  },
  "language_info": {
   "codemirror_mode": {
    "name": "ipython",
    "version": 3
   },
   "file_extension": ".py",
   "mimetype": "text/x-python",
   "name": "python",
   "nbconvert_exporter": "python",
   "pygments_lexer": "ipython3",
   "version": "3.8.8"
  }
 },
 "nbformat": 4,
 "nbformat_minor": 5
}
