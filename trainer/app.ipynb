{
 "cells": [
  {
   "cell_type": "code",
   "execution_count": 1,
   "id": "57fb8f50",
   "metadata": {},
   "outputs": [],
   "source": [
    "import os\n",
    "import PIL\n",
    "import path\n",
    "import time\n",
    "import models, task\n",
    "from fastai.vision import widgets \n",
    "import ipywidgets as widget\n"
   ]
  },
  {
   "cell_type": "code",
   "execution_count": 2,
   "id": "5f26449b",
   "metadata": {},
   "outputs": [],
   "source": [
    "paths = path.Path(\"../outputs/\"+os.listdir(\"../outputs\")[0])\n",
    "\n",
    "#inference(im_path, paths)"
   ]
  },
  {
   "cell_type": "code",
   "execution_count": 3,
   "id": "79684fcc",
   "metadata": {},
   "outputs": [
    {
     "data": {
      "application/vnd.jupyter.widget-view+json": {
       "model_id": "51a91910de964a47a1c3d32552efdc16",
       "version_major": 2,
       "version_minor": 0
      },
      "text/plain": [
       "HTML(value='<h1><b>SIGN LANGUAGE DIGIT RECOGNITION</b></h1>', placeholder='')"
      ]
     },
     "metadata": {},
     "output_type": "display_data"
    }
   ],
   "source": [
    "widget.HTML(\n",
    "    value=\"<h1><b>SIGN LANGUAGE DIGIT RECOGNITION</b></h1>\",\n",
    "    placeholder=\"\",\n",
    "    description=\"\")"
   ]
  },
  {
   "cell_type": "code",
   "execution_count": 4,
   "id": "8db78acf",
   "metadata": {},
   "outputs": [
    {
     "data": {
      "application/vnd.jupyter.widget-view+json": {
       "model_id": "5a8172f73df74c64a2e4421b0029333b",
       "version_major": 2,
       "version_minor": 0
      },
      "text/plain": [
       "Label(value='upload an Image')"
      ]
     },
     "metadata": {},
     "output_type": "display_data"
    }
   ],
   "source": [
    "widgets.Label(value=\"upload an Image\")"
   ]
  },
  {
   "cell_type": "code",
   "execution_count": 11,
   "id": "8688e401",
   "metadata": {},
   "outputs": [
    {
     "data": {
      "application/vnd.jupyter.widget-view+json": {
       "model_id": "d272fb00642c41ecb1503a6f4f7b8743",
       "version_major": 2,
       "version_minor": 0
      },
      "text/plain": [
       "FileUpload(value={}, description='Upload')"
      ]
     },
     "metadata": {},
     "output_type": "display_data"
    }
   ],
   "source": [
    "uploader = widgets.FileUpload()\n",
    "uploader\n",
    "#display(uploader)"
   ]
  },
  {
   "cell_type": "code",
   "execution_count": 20,
   "id": "a8f49c9d",
   "metadata": {},
   "outputs": [],
   "source": [
    "#img=widgets.PILImage.create(uploader.data[-1])\n",
    "#img"
   ]
  },
  {
   "cell_type": "code",
   "execution_count": 21,
   "id": "326f34dd",
   "metadata": {},
   "outputs": [],
   "source": [
    "out_pl = widgets.Output()\n",
    "#out_pl.clear_output()\n",
    "#with out_pl: display(img)\n",
    "#out_pl"
   ]
  },
  {
   "cell_type": "code",
   "execution_count": 15,
   "id": "ee8ad0be",
   "metadata": {},
   "outputs": [],
   "source": []
  },
  {
   "cell_type": "code",
   "execution_count": 22,
   "id": "53b73639",
   "metadata": {},
   "outputs": [
    {
     "data": {
      "application/vnd.jupyter.widget-view+json": {
       "model_id": "f6ab0f1429374c788ed3d2002eb8d047",
       "version_major": 2,
       "version_minor": 0
      },
      "text/plain": [
       "Label(value='Prediction: 2; Probability: 0.9992')"
      ]
     },
     "metadata": {},
     "output_type": "display_data"
    }
   ],
   "source": [
    "pred, prop = task.inference(img, paths)\n",
    "lbl_pred = widgets.Label()\n",
    "lbl_pred.value = f\"Prediction: {pred}; Probability: {prop:.04f}\"\n",
    "lbl_pred"
   ]
  },
  {
   "cell_type": "code",
   "execution_count": 23,
   "id": "90b26299",
   "metadata": {},
   "outputs": [
    {
     "data": {
      "application/vnd.jupyter.widget-view+json": {
       "model_id": "56d0945856a54118912bfa48a4b446b2",
       "version_major": 2,
       "version_minor": 0
      },
      "text/plain": [
       "Button(description='classify digit', icon='check', style=ButtonStyle(), tooltip='click me')"
      ]
     },
     "metadata": {},
     "output_type": "display_data"
    }
   ],
   "source": [
    "button = widgets.Button(\n",
    "    description=\"classify digit\",\n",
    "    disabled=False,\n",
    "    button_style=\"\",\n",
    "    tooltip=\"click me\",\n",
    "    icon=\"check\")\n",
    "button"
   ]
  },
  {
   "cell_type": "code",
   "execution_count": 24,
   "id": "31e8469e",
   "metadata": {},
   "outputs": [],
   "source": [
    "def click_to_classify(change):\n",
    "    img = widgets.PILImage.create(uploader.data[-1])\n",
    "    out_pl.clear_output()\n",
    "    with out_pl: display(img.to_thumb(128,128))\n",
    "    pred, prop = task.inference(img, paths)\n",
    "    lbl_pred.value = f\"Prediction: {pred}; Probability: {prop:.04f}\"\n",
    "    \n",
    "button.on_click(click_to_classify)"
   ]
  },
  {
   "cell_type": "code",
   "execution_count": 26,
   "id": "554fdbc8",
   "metadata": {},
   "outputs": [
    {
     "data": {
      "application/vnd.jupyter.widget-view+json": {
       "model_id": "42b184c10e1e4a848cab1a91a0acc16b",
       "version_major": 2,
       "version_minor": 0
      },
      "text/plain": [
       "VBox(children=(Label(value='Select your image digit!'), FileUpload(value={'IMG_1181.JPG': {'metadata': {'name'…"
      ]
     },
     "metadata": {},
     "output_type": "display_data"
    }
   ],
   "source": [
    "widget.VBox([widgets.Label('Select your image digit!'), uploader, button, out_pl, lbl_pred])\n"
   ]
  },
  {
   "cell_type": "code",
   "execution_count": 20,
   "id": "1e3f3626",
   "metadata": {},
   "outputs": [],
   "source": [
    "#!pip install voila"
   ]
  },
  {
   "cell_type": "code",
   "execution_count": null,
   "id": "08d14814",
   "metadata": {},
   "outputs": [],
   "source": []
  }
 ],
 "metadata": {
  "kernelspec": {
   "display_name": "Python 3",
   "language": "python",
   "name": "python3"
  },
  "language_info": {
   "codemirror_mode": {
    "name": "ipython",
    "version": 3
   },
   "file_extension": ".py",
   "mimetype": "text/x-python",
   "name": "python",
   "nbconvert_exporter": "python",
   "pygments_lexer": "ipython3",
   "version": "3.8.8"
  }
 },
 "nbformat": 4,
 "nbformat_minor": 5
}
